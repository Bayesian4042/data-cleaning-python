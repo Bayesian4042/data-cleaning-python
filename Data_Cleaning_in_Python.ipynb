{
 "cells": [
  {
   "cell_type": "code",
   "execution_count": null,
   "metadata": {
    "collapsed": true
   },
   "outputs": [],
   "source": [
    "import pandas as pd\n",
    "\n",
    "data = pd.read_csv('data COMPILATION-Table 1.csv')\n",
    "\n",
    "#print(data.head())\n",
    "\n",
    "#print(data.tail())\n",
    "\n",
    "## column name inconsistency and missing values\n",
    "\n",
    "print(data.columns)\n",
    "\n",
    "## there is gap after Country\n",
    "\n",
    "print(data.shape)  # total countries are 196, not all countries are included in this dataset\n",
    "\n",
    "print(data.info())  # some vaalues are missing , population is a numeric value but stored as object. an object type"
   ]
  }
 ],
 "metadata": {
  "kernelspec": {
   "display_name": "Python 2",
   "language": "python",
   "name": "python2"
  },
  "language_info": {
   "codemirror_mode": {
    "name": "ipython",
    "version": 2.0
   },
   "file_extension": ".py",
   "mimetype": "text/x-python",
   "name": "python",
   "nbconvert_exporter": "python",
   "pygments_lexer": "ipython2",
   "version": "2.7.6"
  }
 },
 "nbformat": 4,
 "nbformat_minor": 0
}